{
 "cells": [
  {
   "cell_type": "markdown",
   "id": "4af7f27e-0cde-4250-a51e-6238961007c2",
   "metadata": {},
   "source": [
    "# Learning in predictive coding network implemented in Nengo"
   ]
  },
  {
   "cell_type": "markdown",
   "id": "0a3c4cf0-88cf-4ef0-b1e4-994c32b71c6c",
   "metadata": {},
   "source": [
    "Toy model of predictive coding network implemented in Nengo.\n",
    "Predictive error learns the neural population of the upper layer to reproduce the same dynamics as lower layer."
   ]
  },
  {
   "cell_type": "code",
   "execution_count": 1,
   "id": "6ce99c51-bac9-4d00-adac-69d92141c1da",
   "metadata": {},
   "outputs": [],
   "source": [
    "%matplotlib inline\n",
    "import matplotlib.pyplot as plt\n",
    "\n",
    "import nengo"
   ]
  },
  {
   "cell_type": "markdown",
   "id": "9496774b-0566-466a-be67-b0c0df695d87",
   "metadata": {},
   "source": [
    "## Construct network"
   ]
  },
  {
   "cell_type": "code",
   "execution_count": 2,
   "id": "14217d70-92f9-43fd-af89-59e105df3380",
   "metadata": {},
   "outputs": [],
   "source": [
    "model = nengo.Network()\n",
    "\n",
    "tau_synapse = 0.1\n",
    "omega = 8\n",
    "tau_synapse2 = 0.1\n",
    "omega2 = 14\n",
    "\n",
    "with model:\n",
    "    freq = nengo.Ensemble(n_neurons=50, dimensions=1)\n",
    "    stim_freq = nengo.Node(1)\n",
    "    nengo.Connection(stim_freq, freq)\n",
    "    osc = nengo.Ensemble(n_neurons=500, dimensions=3, radius=1.5)\n",
    "    osc2 = nengo.Ensemble(n_neurons=500, dimensions=3, radius=1.5)\n",
    "    err = nengo.Ensemble(n_neurons=500, dimensions=3, radius=1.5)\n",
    "\n",
    "    def recurrent(x):\n",
    "        return [-tau_synapse*x[2]*omega*x[1]+x[0], tau_synapse*x[2]*omega*x[0]+x[1]]\n",
    "    \n",
    "    def recurrent2(x):\n",
    "        return [-tau_synapse*x[2]*omega2*x[1]+x[0], tau_synapse*x[2]*omega2*x[0]+x[1]]\n",
    "    \n",
    "    nengo.Connection(osc, osc[:2], function=recurrent, synapse=tau_synapse)\n",
    "    \n",
    "    def stim_func(t):\n",
    "        if t < 0.1:\n",
    "            return 1, 0\n",
    "        else:\n",
    "            return 0, 0\n",
    "        \n",
    "    stim = nengo.Node(stim_func)\n",
    "    nengo.Connection(stim, osc[:2])\n",
    "    nengo.Connection(freq, osc[2]) \n",
    "    \n",
    "    nengo.Connection(osc2, osc2[:2], function=recurrent2, synapse=tau_synapse)\n",
    "    nengo.Connection(osc, err, transform=-1)\n",
    "    nengo.Connection(osc2, err)\n",
    "    a = nengo.Connection(err, osc2, learning_rule_type=nengo.PES())\n",
    "    nengo.Connection(err, a.learning_rule)"
   ]
  },
  {
   "cell_type": "markdown",
   "id": "16e81464-5c13-490d-ba89-d1c0337cd3ee",
   "metadata": {},
   "source": [
    "## Add probes"
   ]
  },
  {
   "cell_type": "code",
   "execution_count": 3,
   "id": "20d7afb7-55a1-48bb-8fd8-8feb68912e7c",
   "metadata": {},
   "outputs": [],
   "source": [
    "with model:\n",
    "    osc_probe = nengo.Probe(osc, synapse=0.01)\n",
    "    error_probe = nengo.Probe(err, synapse=0.01)\n",
    "    osc2_probe = nengo.Probe(osc2, synapse=0.01)"
   ]
  },
  {
   "cell_type": "markdown",
   "id": "94da00c9-2f2e-4c46-b117-0486dc3c8a88",
   "metadata": {},
   "source": [
    "## Run the model"
   ]
  },
  {
   "cell_type": "code",
   "execution_count": 4,
   "id": "676d9456-5826-4815-aacd-1b8e961c4e71",
   "metadata": {},
   "outputs": [
    {
     "data": {
      "text/html": [
       "\n",
       "                <div id=\"2cce541c-bea6-4569-a767-c5d6bce44e3f\" style=\"\n",
       "                    width: 100%;\n",
       "                    border: 1px solid #cfcfcf;\n",
       "                    border-radius: 4px;\n",
       "                    text-align: center;\n",
       "                    position: relative;\">\n",
       "                  <div class=\"pb-text\" style=\"\n",
       "                      position: absolute;\n",
       "                      width: 100%;\">\n",
       "                    0%\n",
       "                  </div>\n",
       "                  <div class=\"pb-fill\" style=\"\n",
       "                      background-color: #bdd2e6;\n",
       "                      width: 0%;\">\n",
       "                    <style type=\"text/css\" scoped=\"scoped\">\n",
       "                        @keyframes pb-fill-anim {\n",
       "                            0% { background-position: 0 0; }\n",
       "                            100% { background-position: 100px 0; }\n",
       "                        }\n",
       "                    </style>\n",
       "                    &nbsp;\n",
       "                  </div>\n",
       "                </div>"
      ],
      "text/plain": [
       "HtmlProgressBar cannot be displayed. Please use the TerminalProgressBar. It can be enabled with `nengo.rc.set('progress', 'progress_bar', 'nengo.utils.progress.TerminalProgressBar')`."
      ]
     },
     "metadata": {},
     "output_type": "display_data"
    },
    {
     "data": {
      "application/javascript": [
       "\n",
       "              (function () {\n",
       "                  var root = document.getElementById('2cce541c-bea6-4569-a767-c5d6bce44e3f');\n",
       "                  var text = root.getElementsByClassName('pb-text')[0];\n",
       "                  var fill = root.getElementsByClassName('pb-fill')[0];\n",
       "\n",
       "                  text.innerHTML = 'Build finished in 0:00:01.';\n",
       "                  \n",
       "            fill.style.width = '100%';\n",
       "            fill.style.animation = 'pb-fill-anim 2s linear infinite';\n",
       "            fill.style.backgroundSize = '100px 100%';\n",
       "            fill.style.backgroundImage = 'repeating-linear-gradient(' +\n",
       "                '90deg, #bdd2e6, #edf2f8 40%, #bdd2e6 80%, #bdd2e6)';\n",
       "        \n",
       "                  \n",
       "                fill.style.animation = 'none';\n",
       "                fill.style.backgroundImage = 'none';\n",
       "            \n",
       "              })();\n",
       "        "
      ],
      "text/plain": [
       "<IPython.core.display.Javascript object>"
      ]
     },
     "metadata": {},
     "output_type": "display_data"
    },
    {
     "data": {
      "text/html": [
       "\n",
       "                <div id=\"ce8cf42f-0bc7-4df8-92d7-8137f8cd2a63\" style=\"\n",
       "                    width: 100%;\n",
       "                    border: 1px solid #cfcfcf;\n",
       "                    border-radius: 4px;\n",
       "                    text-align: center;\n",
       "                    position: relative;\">\n",
       "                  <div class=\"pb-text\" style=\"\n",
       "                      position: absolute;\n",
       "                      width: 100%;\">\n",
       "                    0%\n",
       "                  </div>\n",
       "                  <div class=\"pb-fill\" style=\"\n",
       "                      background-color: #bdd2e6;\n",
       "                      width: 0%;\">\n",
       "                    <style type=\"text/css\" scoped=\"scoped\">\n",
       "                        @keyframes pb-fill-anim {\n",
       "                            0% { background-position: 0 0; }\n",
       "                            100% { background-position: 100px 0; }\n",
       "                        }\n",
       "                    </style>\n",
       "                    &nbsp;\n",
       "                  </div>\n",
       "                </div>"
      ],
      "text/plain": [
       "HtmlProgressBar cannot be displayed. Please use the TerminalProgressBar. It can be enabled with `nengo.rc.set('progress', 'progress_bar', 'nengo.utils.progress.TerminalProgressBar')`."
      ]
     },
     "metadata": {},
     "output_type": "display_data"
    },
    {
     "data": {
      "application/javascript": [
       "\n",
       "              (function () {\n",
       "                  var root = document.getElementById('ce8cf42f-0bc7-4df8-92d7-8137f8cd2a63');\n",
       "                  var text = root.getElementsByClassName('pb-text')[0];\n",
       "                  var fill = root.getElementsByClassName('pb-fill')[0];\n",
       "\n",
       "                  text.innerHTML = 'Simulation finished in 0:00:09.';\n",
       "                  \n",
       "            if (100.0 > 0.) {\n",
       "                fill.style.transition = 'width 0.1s linear';\n",
       "            } else {\n",
       "                fill.style.transition = 'none';\n",
       "            }\n",
       "\n",
       "            fill.style.width = '100.0%';\n",
       "            fill.style.animation = 'none';\n",
       "            fill.style.backgroundImage = 'none'\n",
       "        \n",
       "                  \n",
       "                fill.style.animation = 'none';\n",
       "                fill.style.backgroundImage = 'none';\n",
       "            \n",
       "              })();\n",
       "        "
      ],
      "text/plain": [
       "<IPython.core.display.Javascript object>"
      ]
     },
     "metadata": {},
     "output_type": "display_data"
    }
   ],
   "source": [
    "# Create simulator\n",
    "with nengo.Simulator(model) as sim:\n",
    "    # Run it for several seconds\n",
    "    sim.run(16)"
   ]
  },
  {
   "cell_type": "markdown",
   "id": "3bed9f17-a44d-4545-9e64-066aba1254c4",
   "metadata": {},
   "source": [
    "## Plot the results"
   ]
  },
  {
   "cell_type": "code",
   "execution_count": 5,
   "id": "7c2c7532-cf63-4861-894c-0aae642c35fa",
   "metadata": {},
   "outputs": [
    {
     "data": {
      "image/png": "[encoded data removed]",
      "text/plain": [
       "<Figure size 400x250 with 1 Axes>"
      ]
     },
     "metadata": {},
     "output_type": "display_data"
    }
   ],
   "source": [
    "# Plot the decoded output of the ensemble\n",
    "n = 40 # plot every n-th point\n",
    "x = sim.trange()[::n]\n",
    "y1 = sim.data[osc_probe][:,0][::n]\n",
    "y2 = sim.data[osc2_probe][:,0][::n]\n",
    "\n",
    "fig = plt.figure(figsize=(4,2.5))\n",
    "plt.plot(x, y1, \"k\", label=\"Master oscillator\", linewidth=1)\n",
    "plt.plot(x, y2, \"k\", label=\"Receiver oscillator\", linewidth=1, linestyle='dashed')\n",
    "plt.xlabel(\"Time (s)\", fontsize=10)\n",
    "plt.ylabel(\"Output value (arb. units)\", fontsize=10)\n",
    "#plt.legend()\n",
    "\n",
    "# save the figure if necessary\n",
    "plt.savefig('Predictive_learning.svg', bbox_inches='tight')"
   ]
  },
  {
   "cell_type": "code",
   "execution_count": null,
   "id": "9490e790-41f7-4137-a0ce-15344d998033",
   "metadata": {},
   "outputs": [],
   "source": []
  }
 ],
 "metadata": {
  "kernelspec": {
   "display_name": "Python 3 (ipykernel)",
   "language": "python",
   "name": "python3"
  },
  "language_info": {
   "codemirror_mode": {
    "name": "ipython",
    "version": 3
   },
   "file_extension": ".py",
   "mimetype": "text/x-python",
   "name": "python",
   "nbconvert_exporter": "python",
   "pygments_lexer": "ipython3",
   "version": "3.9.19"
  }
 },
 "nbformat": 4,
 "nbformat_minor": 5
}
