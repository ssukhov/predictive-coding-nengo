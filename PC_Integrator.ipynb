{
 "cells": [
  {
   "cell_type": "markdown",
   "id": "a776e875-e59e-4263-896a-5afe6be04331",
   "metadata": {},
   "source": [
    "# Simple predictive coding network implemented in Nengo"
   ]
  },
  {
   "cell_type": "markdown",
   "id": "bd6dc326-a7e0-47e0-b5d4-77882ea00ef4",
   "metadata": {},
   "source": [
    "Toy model of predictive coding network implemented in Nengo.\n",
    "The error signal teaches the integrator of upper hierarchy and becomes zero when finished teaching. The input signal and the signal from integrator specify the current error."
   ]
  },
  {
   "cell_type": "markdown",
   "id": "f940e9f1-064f-4435-a46f-b19e1597145b",
   "metadata": {},
   "source": [
    "integrator part is taken from Nengo examples\n",
    "https://www.nengo.ai/nengo/examples/dynamics/integrator.html\n",
    "\n",
    "Integrator equation\n",
    "dx/dt = u(t)\n",
    "where u(t) is the input stimulus"
   ]
  },
  {
   "cell_type": "code",
   "execution_count": 1,
   "id": "21a1facc-f4cf-4dd4-b36c-bc4631c8d7de",
   "metadata": {},
   "outputs": [],
   "source": [
    "%matplotlib inline\n",
    "import matplotlib.pyplot as plt\n",
    "\n",
    "import nengo\n",
    "from nengo.processes import Piecewise"
   ]
  },
  {
   "cell_type": "markdown",
   "id": "9c75b8a0-e740-4402-adc9-0966185033d7",
   "metadata": {},
   "source": [
    "## Construct network"
   ]
  },
  {
   "cell_type": "code",
   "execution_count": 2,
   "id": "05a926a5-05be-467e-aae1-476357798d47",
   "metadata": {},
   "outputs": [],
   "source": [
    "model = nengo.Network()\n",
    "\n",
    "# Parameters\n",
    "tau_synapse = 0.2 # should be reasonably large\n",
    "\n",
    "with model:\n",
    "    err = nengo.Ensemble(n_neurons=100, dimensions=1)\n",
    "    layer1 = nengo.Ensemble(n_neurons=100, dimensions=1)\n",
    "    stim = nengo.Node(Piecewise({0: 0, 0.2: 1, 4: -2, 8: 0.5}))\n",
    "    layer2 = nengo.Ensemble(n_neurons=100, dimensions=1)\n",
    "    nengo.Connection(stim,layer1)\n",
    "    nengo.Connection(layer1, err)\n",
    "    \n",
    "    def forward(u):\n",
    "        return tau_synapse*u\n",
    "    # feedforward error\n",
    "    nengo.Connection(err, layer2, function=forward, synapse=tau_synapse)\n",
    "    \n",
    "    def recurrent(x):\n",
    "        return x\n",
    "    nengo.Connection(layer2, layer2, function=recurrent, synapse=tau_synapse)\n",
    "    \n",
    "    nengo.Connection(layer2, err, transform=-1) # feedback to the error population"
   ]
  },
  {
   "cell_type": "markdown",
   "id": "2149f769-5eca-43f5-a06e-828a6f2679f3",
   "metadata": {},
   "source": [
    "## Add probes"
   ]
  },
  {
   "cell_type": "code",
   "execution_count": 3,
   "id": "2ae98443-5cac-41bd-b776-66faf050f39a",
   "metadata": {},
   "outputs": [],
   "source": [
    "with model:\n",
    "    layer1_probe = nengo.Probe(layer1, synapse=0.01)\n",
    "    error_probe = nengo.Probe(err, synapse=0.01)\n",
    "    layer2_probe = nengo.Probe(layer2, synapse=0.01)"
   ]
  },
  {
   "cell_type": "markdown",
   "id": "2d11ac14-df78-4d43-8549-7f0a91c7f1de",
   "metadata": {},
   "source": [
    "## Run the model"
   ]
  },
  {
   "cell_type": "code",
   "execution_count": 4,
   "id": "b9337e78-a5a8-4784-99d4-576a37040252",
   "metadata": {},
   "outputs": [
    {
     "data": {
      "text/html": [
       "\n",
       "                <div id=\"3daff8dd-7a9a-45b2-9c15-f782c5611eaa\" style=\"\n",
       "                    width: 100%;\n",
       "                    border: 1px solid #cfcfcf;\n",
       "                    border-radius: 4px;\n",
       "                    text-align: center;\n",
       "                    position: relative;\">\n",
       "                  <div class=\"pb-text\" style=\"\n",
       "                      position: absolute;\n",
       "                      width: 100%;\">\n",
       "                    0%\n",
       "                  </div>\n",
       "                  <div class=\"pb-fill\" style=\"\n",
       "                      background-color: #bdd2e6;\n",
       "                      width: 0%;\">\n",
       "                    <style type=\"text/css\" scoped=\"scoped\">\n",
       "                        @keyframes pb-fill-anim {\n",
       "                            0% { background-position: 0 0; }\n",
       "                            100% { background-position: 100px 0; }\n",
       "                        }\n",
       "                    </style>\n",
       "                    &nbsp;\n",
       "                  </div>\n",
       "                </div>"
      ],
      "text/plain": [
       "HtmlProgressBar cannot be displayed. Please use the TerminalProgressBar. It can be enabled with `nengo.rc.set('progress', 'progress_bar', 'nengo.utils.progress.TerminalProgressBar')`."
      ]
     },
     "metadata": {},
     "output_type": "display_data"
    },
    {
     "data": {
      "application/javascript": [
       "\n",
       "              (function () {\n",
       "                  var root = document.getElementById('3daff8dd-7a9a-45b2-9c15-f782c5611eaa');\n",
       "                  var text = root.getElementsByClassName('pb-text')[0];\n",
       "                  var fill = root.getElementsByClassName('pb-fill')[0];\n",
       "\n",
       "                  text.innerHTML = 'Build finished in 0:00:01.';\n",
       "                  \n",
       "            fill.style.width = '100%';\n",
       "            fill.style.animation = 'pb-fill-anim 2s linear infinite';\n",
       "            fill.style.backgroundSize = '100px 100%';\n",
       "            fill.style.backgroundImage = 'repeating-linear-gradient(' +\n",
       "                '90deg, #bdd2e6, #edf2f8 40%, #bdd2e6 80%, #bdd2e6)';\n",
       "        \n",
       "                  \n",
       "                fill.style.animation = 'none';\n",
       "                fill.style.backgroundImage = 'none';\n",
       "            \n",
       "              })();\n",
       "        "
      ],
      "text/plain": [
       "<IPython.core.display.Javascript object>"
      ]
     },
     "metadata": {},
     "output_type": "display_data"
    },
    {
     "data": {
      "text/html": [
       "\n",
       "                <div id=\"34274f94-db4e-4728-b1e5-8891d3ac063b\" style=\"\n",
       "                    width: 100%;\n",
       "                    border: 1px solid #cfcfcf;\n",
       "                    border-radius: 4px;\n",
       "                    text-align: center;\n",
       "                    position: relative;\">\n",
       "                  <div class=\"pb-text\" style=\"\n",
       "                      position: absolute;\n",
       "                      width: 100%;\">\n",
       "                    0%\n",
       "                  </div>\n",
       "                  <div class=\"pb-fill\" style=\"\n",
       "                      background-color: #bdd2e6;\n",
       "                      width: 0%;\">\n",
       "                    <style type=\"text/css\" scoped=\"scoped\">\n",
       "                        @keyframes pb-fill-anim {\n",
       "                            0% { background-position: 0 0; }\n",
       "                            100% { background-position: 100px 0; }\n",
       "                        }\n",
       "                    </style>\n",
       "                    &nbsp;\n",
       "                  </div>\n",
       "                </div>"
      ],
      "text/plain": [
       "HtmlProgressBar cannot be displayed. Please use the TerminalProgressBar. It can be enabled with `nengo.rc.set('progress', 'progress_bar', 'nengo.utils.progress.TerminalProgressBar')`."
      ]
     },
     "metadata": {},
     "output_type": "display_data"
    },
    {
     "data": {
      "application/javascript": [
       "\n",
       "              (function () {\n",
       "                  var root = document.getElementById('34274f94-db4e-4728-b1e5-8891d3ac063b');\n",
       "                  var text = root.getElementsByClassName('pb-text')[0];\n",
       "                  var fill = root.getElementsByClassName('pb-fill')[0];\n",
       "\n",
       "                  text.innerHTML = 'Simulation finished in 0:00:04.';\n",
       "                  \n",
       "            if (100.0 > 0.) {\n",
       "                fill.style.transition = 'width 0.1s linear';\n",
       "            } else {\n",
       "                fill.style.transition = 'none';\n",
       "            }\n",
       "\n",
       "            fill.style.width = '100.0%';\n",
       "            fill.style.animation = 'none';\n",
       "            fill.style.backgroundImage = 'none'\n",
       "        \n",
       "                  \n",
       "                fill.style.animation = 'none';\n",
       "                fill.style.backgroundImage = 'none';\n",
       "            \n",
       "              })();\n",
       "        "
      ],
      "text/plain": [
       "<IPython.core.display.Javascript object>"
      ]
     },
     "metadata": {},
     "output_type": "display_data"
    }
   ],
   "source": [
    "# Create simulator\n",
    "with nengo.Simulator(model) as sim:\n",
    "    # Run it for several seconds\n",
    "    sim.run(8)"
   ]
  },
  {
   "cell_type": "markdown",
   "id": "21bb7ee5-a35c-42b6-a783-c37d4121e19f",
   "metadata": {},
   "source": [
    "## Plot the results"
   ]
  },
  {
   "cell_type": "code",
   "execution_count": 7,
   "id": "587b74c3-d17c-4253-bfd4-c184008d2595",
   "metadata": {},
   "outputs": [
    {
     "data": {
      "image/png": "[encoded data removed]",
      "text/plain": [
       "<Figure size 400x250 with 1 Axes>"
      ]
     },
     "metadata": {},
     "output_type": "display_data"
    }
   ],
   "source": [
    "# Plot the decoded output of the ensemble\n",
    "n = 40 # plot every n-th point\n",
    "x = sim.trange()[::n]\n",
    "y1 = sim.data[layer1_probe][::n]\n",
    "y2 = sim.data[error_probe][::n]\n",
    "y3 = sim.data[layer2_probe][::n]\n",
    "\n",
    "fig = plt.figure(figsize=(4,2.5))\n",
    "plt.plot(x, y1, \"k\", label=\"Layer 1 output\", linewidth=1)\n",
    "plt.plot(x, y2, \"k\", label=\"Error\", linewidth=1, linestyle='dashed')\n",
    "plt.plot(x, y3, \"k\", label=\"Layer 2 output\", linewidth=1, linestyle='dotted')\n",
    "plt.xlabel(\"Time (s)\", fontsize=10)\n",
    "plt.ylabel(\"Output value (arb. units)\", fontsize=10)\n",
    "#plt.legend(loc=\"upper right\")\n",
    "\n",
    "# save the figure if necessary\n",
    "plt.savefig('Integrator.svg', bbox_inches='tight')"
   ]
  },
  {
   "cell_type": "code",
   "execution_count": 27,
   "id": "3ff82d3f-3719-49fc-a8eb-c9b89e3b1926",
   "metadata": {},
   "outputs": [],
   "source": [
    "# save data for further use\n",
    "import pandas as pd\n",
    "\n",
    "data = {'time': sim.trange(),\n",
    "        'layer1_output': sim.data[layer1_probe].squeeze(),\n",
    "        'error': sim.data[error_probe].squeeze(),\n",
    "        'layer2_output': sim.data[layer2_probe].squeeze()}\n",
    "df = pd.DataFrame(data)\n",
    "df.to_pickle('PCL_Nengo.pkl')\n",
    "# df = pd.read_pickle('PCL_Nengo.pkl')"
   ]
  }
 ],
 "metadata": {
  "kernelspec": {
   "display_name": "Python 3 (ipykernel)",
   "language": "python",
   "name": "python3"
  },
  "language_info": {
   "codemirror_mode": {
    "name": "ipython",
    "version": 3
   },
   "file_extension": ".py",
   "mimetype": "text/x-python",
   "name": "python",
   "nbconvert_exporter": "python",
   "pygments_lexer": "ipython3",
   "version": "3.9.19"
  }
 },
 "nbformat": 4,
 "nbformat_minor": 5
}
